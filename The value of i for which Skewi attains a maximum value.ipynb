{
 "cells": [
  {
   "cell_type": "code",
   "execution_count": null,
   "metadata": {},
   "outputs": [],
   "source": [
    "##Finding placement value where i is the maximum\n",
    "\n",
    "def Skewi(Genome, i):\n",
    "    skew = 0\n",
    "    if i > 0:\n",
    "        skew = Genome[:i].count('G') - Genome[:i].count('C')\n",
    "    return skew\n",
    "\n",
    "def find_max_skew_i(Genome):\n",
    "    max_skew = -1  # Initialize max_skew to a small value\n",
    "    max_i = []     # List to store indices with max_skew\n",
    "\n",
    "    for i in range(len(Genome) + 1):\n",
    "        skew = Skewi(Genome, i)\n",
    "        if skew > max_skew:\n",
    "            max_skew = skew\n",
    "            max_i = [i]\n",
    "        elif skew == max_skew:\n",
    "            max_i.append(i)\n",
    "\n",
    "    return max_i\n",
    "\n",
    "Genome = \"GCATACACTTCCCAGTAGGTACTG\"\n",
    "max_i_list = find_max_skew_i(Genome)\n",
    "print(\"The value of i for which Skewi attains a maximum value is/are:\", max_i_list)\n"
   ]
  }
 ],
 "metadata": {
  "kernelspec": {
   "display_name": "base",
   "language": "python",
   "name": "python3"
  },
  "language_info": {
   "codemirror_mode": {
    "name": "ipython",
    "version": 3
   },
   "file_extension": ".py",
   "mimetype": "text/x-python",
   "name": "python",
   "nbconvert_exporter": "python",
   "pygments_lexer": "ipython3",
   "version": "3.9.13"
  }
 },
 "nbformat": 4,
 "nbformat_minor": 2
}
