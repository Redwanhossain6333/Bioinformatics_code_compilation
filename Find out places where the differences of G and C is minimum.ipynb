{
 "cells": [
  {
   "cell_type": "code",
   "execution_count": null,
   "metadata": {},
   "outputs": [],
   "source": [
    "##Find out places where the differences of G and C is minimum\n",
    "\n",
    "def minimum_skew(genome):\n",
    "    skew_values = [0]\n",
    "    min_skew = float('inf')\n",
    "    min_positions = []\n",
    "\n",
    "    for i in range(len(genome)):\n",
    "        nucleotide = genome[i]\n",
    "        if nucleotide == 'C':\n",
    "            skew_values.append(skew_values[-1] - 1)\n",
    "        elif nucleotide == 'G':\n",
    "            skew_values.append(skew_values[-1] + 1)\n",
    "        else:\n",
    "            skew_values.append(skew_values[-1])\n",
    "\n",
    "        if skew_values[-1] < min_skew:\n",
    "            min_skew = skew_values[-1]\n",
    "            min_positions = [i + 1]\n",
    "        elif skew_values[-1] == min_skew:\n",
    "            min_positions.append(i + 1)\n",
    "\n",
    "    return min_positions\n",
    "\n",
    "# Read the genome from a text file\n",
    "with open(\"F:\\Download Folder\\dataset_30277_10.txt\", 'r') as file:\n",
    "    genome = file.read().strip()\n",
    "\n",
    "# Find and print the positions with minimum skew\n",
    "min_skew_positions = minimum_skew(genome)\n",
    "print(\" \".join(map(str, min_skew_positions)))\n"
   ]
  }
 ],
 "metadata": {
  "language_info": {
   "name": "python"
  }
 },
 "nbformat": 4,
 "nbformat_minor": 2
}
