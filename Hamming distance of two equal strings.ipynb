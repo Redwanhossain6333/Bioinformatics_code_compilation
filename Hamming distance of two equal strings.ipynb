{
 "cells": [
  {
   "cell_type": "code",
   "execution_count": null,
   "metadata": {},
   "outputs": [],
   "source": [
    "### We say that position i in k-mers p1 … pk and q1 … qk is a mismatch if pi ≠ qi. \n",
    "#For example, CGAAT and CGGAC have two mismatches. \n",
    "#The number of mismatches between strings p and q is called the Hamming distance between these strings and \n",
    "#is denoted HammingDistance(p, q).\n",
    "##Input: Two strings of equal length.\n",
    "##Output: The Hamming distance between these strings\n",
    "\n",
    "\n",
    "### First line one string, second line is another string; in a .txt file\n",
    "\n",
    "# Read the strings from a text file\n",
    "with open(\"F:\\Download Folder\\practice.txt\", 'r') as file:\n",
    "    string1 = file.readline().strip()\n",
    "    string2 = file.readline().strip()\n",
    "\n",
    "def hamming_distance(s1, s2):\n",
    "    if len(s1) != len(s2):\n",
    "        raise ValueError(\"Input strings must have equal length\")\n",
    "    \n",
    "    distance = 0\n",
    "    for i in range(len(s1)):\n",
    "        if s1[i] != s2[i]:\n",
    "            distance += 1\n",
    "    return distance\n",
    "\n",
    "# Calculate the Hamming distance\n",
    "distance = hamming_distance(string1, string2)\n",
    "\n",
    "print(distance)\n",
    "\n"
   ]
  }
 ],
 "metadata": {
  "language_info": {
   "name": "python"
  }
 },
 "nbformat": 4,
 "nbformat_minor": 2
}
