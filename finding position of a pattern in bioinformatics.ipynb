{
 "cells": [
  {
   "cell_type": "code",
   "execution_count": null,
   "metadata": {},
   "outputs": [],
   "source": [
    "# Read the pattern and genome sequence from a text file\n",
    "with open(\"F:\\Download Folder\\dataset_30273_5.txt\", 'r') as file:\n",
    "    pattern = file.readline().strip()\n",
    "    genome_sequence = file.readline().strip()\n",
    "\n",
    "# Function to find positions of the pattern in the genome\n",
    "def find_pattern_positions(pattern, genome_sequence):\n",
    "    positions = []\n",
    "    index = genome_sequence.find(pattern)\n",
    "    while index != -1:\n",
    "        positions.append(index)\n",
    "        index = genome_sequence.find(pattern, index + 1)\n",
    "    return positions\n",
    "\n",
    "# Find and print the positions of the pattern in the genome\n",
    "pattern_positions = find_pattern_positions(pattern, genome_sequence)\n",
    "\n",
    "print(f\"Pattern '{pattern}' found at positions:\")\n",
    "for position in pattern_positions:\n",
    "    print(position)\n",
    "\n",
    "\n",
    "#First line will have a pattern. Second line will have a genome sequence. \n",
    "# You need to find out in which position of the genome that pattern started as a sub-string.  \n",
    "# (The first position of the genome will be regarded as 0th position). \n",
    "# Remember, more than one position can be found as an answer."
   ]
  }
 ],
 "metadata": {
  "kernelspec": {
   "display_name": "base",
   "language": "python",
   "name": "python3"
  },
  "language_info": {
   "codemirror_mode": {
    "name": "ipython",
    "version": 3
   },
   "file_extension": ".py",
   "mimetype": "text/x-python",
   "name": "python",
   "nbconvert_exporter": "python",
   "pygments_lexer": "ipython3",
   "version": "3.9.13"
  }
 },
 "nbformat": 4,
 "nbformat_minor": 2
}
