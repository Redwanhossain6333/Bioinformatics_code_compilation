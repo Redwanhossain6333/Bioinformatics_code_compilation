{
 "cells": [
  {
   "cell_type": "code",
   "execution_count": 2,
   "metadata": {},
   "outputs": [
    {
     "name": "stdout",
     "output_type": "stream",
     "text": [
      "The pattern 'CGCG' appears 5 times in the DNA sequence.\n"
     ]
    }
   ],
   "source": [
    "# Read the DNA sequence and pattern from a text file\n",
    "with open(\"F://Download Folder//asasa.txt\", 'r') as file:\n",
    "    lines = file.readlines()\n",
    "    dna_sequence = lines[0].strip()\n",
    "    pattern = lines[1].strip()\n",
    "\n",
    "# Initialize a count for pattern occurrences\n",
    "count = 0\n",
    "\n",
    "# Search for the pattern in the DNA sequence\n",
    "index = dna_sequence.find(pattern)\n",
    "while index != -1:\n",
    "    count += 1\n",
    "    index = dna_sequence.find(pattern, index + 1)\n",
    "\n",
    "# Print the count of pattern occurrences\n",
    "print(f\"The pattern '{pattern}' appears {count} times in the DNA sequence.\")\n"
   ]
  }
 ],
 "metadata": {
  "kernelspec": {
   "display_name": "base",
   "language": "python",
   "name": "python3"
  },
  "language_info": {
   "codemirror_mode": {
    "name": "ipython",
    "version": 3
   },
   "file_extension": ".py",
   "mimetype": "text/x-python",
   "name": "python",
   "nbconvert_exporter": "python",
   "pygments_lexer": "ipython3",
   "version": "3.9.13"
  }
 },
 "nbformat": 4,
 "nbformat_minor": 2
}
