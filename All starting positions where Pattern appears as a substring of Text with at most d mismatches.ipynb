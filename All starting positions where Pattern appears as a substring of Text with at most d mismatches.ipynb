{
 "cells": [
  {
   "cell_type": "code",
   "execution_count": null,
   "metadata": {},
   "outputs": [],
   "source": [
    "###We say that a k-mer Pattern appears as a substring of Text with at most d mismatches if there is some k-mer \n",
    "#substring Pattern' of Text having d or fewer mismatches with Pattern, i.e., HammingDistance(Pattern, Pattern') ≤ d. \n",
    "\n",
    "##Our observation that a DnaA box may appear with slight variations leads to the following generalization of the \n",
    "#Pattern Matching Problem.\n",
    "\n",
    "#Approximate Pattern Matching Problem: Find all approximate occurrences of a pattern in a string.\n",
    "\n",
    " \n",
    "\n",
    "##Input: Strings Pattern and Text along with an integer d.\n",
    "##Output: All starting positions where Pattern appears as a substring of Text with at most d mismatches.\n",
    "\n",
    "def hamming_distance(s1, s2):\n",
    "    if len(s1) != len(s2):\n",
    "        raise ValueError(\"Input strings must have equal length\")\n",
    "    \n",
    "    distance = 0\n",
    "    for i in range(len(s1)):\n",
    "        if s1[i] != s2[i]:\n",
    "            distance += 1\n",
    "    return distance\n",
    "\n",
    "def approximate_pattern_matching(pattern, text, d):\n",
    "    positions = []\n",
    "    k = len(pattern)\n",
    "\n",
    "    for i in range(len(text) - k + 1):\n",
    "        subtext = text[i:i + k]\n",
    "        if hamming_distance(pattern, subtext) <= d:\n",
    "            positions.append(i)\n",
    "\n",
    "    return positions\n",
    "\n",
    "# Read the pattern, genome, and d from a text file\n",
    "with open(\"F:\\Download Folder\\dataset_30278_4.txt\", 'r') as file:\n",
    "    pattern = file.readline().strip()\n",
    "    genome = file.readline().strip()\n",
    "    d = int(file.readline().strip())\n",
    "\n",
    "# Find and print the starting positions\n",
    "positions = approximate_pattern_matching(pattern, genome, d)\n",
    "print(\" \".join(map(str, positions)))\n"
   ]
  }
 ],
 "metadata": {
  "language_info": {
   "name": "python"
  }
 },
 "nbformat": 4,
 "nbformat_minor": 2
}
