{
 "cells": [
  {
   "cell_type": "code",
   "execution_count": null,
   "metadata": {},
   "outputs": [],
   "source": [
    "def frequency_table(text, kmer_len):\n",
    "    freq_map = {}\n",
    "    nt = len(text)\n",
    "    nk = kmer_len\n",
    "\n",
    "    for i in range(0, nt - nk + 1):\n",
    "        pattern = text[i : i + nk]\n",
    "        if not freq_map.get(pattern):\n",
    "            freq_map[pattern] = 1\n",
    "        else:\n",
    "            freq_map[pattern] = freq_map[pattern] + 1\n",
    "\n",
    "    return freq_map\n",
    "\n",
    "def find_clumps(text, k, L, t):\n",
    "    patterns = set()\n",
    "    n = len(text)\n",
    "    for i in range(n - L + 1):\n",
    "        window = text[i : i + L]\n",
    "        freq_map = frequency_table(window, k)\n",
    "        for s in freq_map:\n",
    "            if freq_map[s] >= t:\n",
    "                patterns.add(s)\n",
    "\n",
    "    return len(patterns)\n",
    "\n",
    "# Read the E. coli genome sequence from a text file\n",
    "with open(\"F:\\Download Folder\\E_coli.txt\", 'r') as file:\n",
    "    ecoli_genome = file.read().strip()\n",
    "\n",
    "k = 9\n",
    "L = 500\n",
    "t = 3\n",
    "\n",
    "count = find_clumps(ecoli_genome, k, L, t)\n",
    "print(\"Number of different 9-mers forming (500, 3)-clumps:\", count)\n"
   ]
  }
 ],
 "metadata": {
  "kernelspec": {
   "display_name": "base",
   "language": "python",
   "name": "python3"
  },
  "language_info": {
   "codemirror_mode": {
    "name": "ipython",
    "version": 3
   },
   "file_extension": ".py",
   "mimetype": "text/x-python",
   "name": "python",
   "nbconvert_exporter": "python",
   "pygments_lexer": "ipython3",
   "version": "3.9.13"
  }
 },
 "nbformat": 4,
 "nbformat_minor": 2
}
