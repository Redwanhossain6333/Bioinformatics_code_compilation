{
 "cells": [
  {
   "cell_type": "code",
   "execution_count": null,
   "metadata": {},
   "outputs": [],
   "source": [
    "from itertools import product\n",
    "\n",
    "def HammingDistance(s1, s2):\n",
    "    if len(s1) != len(s2):\n",
    "        raise ValueError(\"Input strings must have equal length\")\n",
    "\n",
    "    distance = 0\n",
    "    for i in range(len(s1)):\n",
    "        if s1[i] != s2[i]:\n",
    "            distance += 1\n",
    "    return distance\n",
    "\n",
    "def count_kmers_in_neighborhood(Pattern, k, n):\n",
    "    nucleotides = \"ACGT\"\n",
    "    kmer_counts = {}\n",
    "    \n",
    "    for d in range(n + 1):\n",
    "        kmer_count = 0\n",
    "        for positions in product(range(4), repeat=k):\n",
    "            neighbor = ''.join([nucleotides[i] for i in positions])\n",
    "            if HammingDistance(Pattern, neighbor) <= d:\n",
    "                kmer_count += 1\n",
    "        kmer_counts[d] = kmer_count\n",
    "    \n",
    "    return kmer_counts\n",
    "\n",
    "# Read input from the file\n",
    "with open(\"F:\\Download Folder\\practice.txt\", \"r\") as file:\n",
    "    Pattern = file.readline().strip()\n",
    "    k = int(file.readline().strip())\n",
    "    n = int(file.readline().strip())\n",
    "\n",
    "# Calculate the number of k-mers in the neighborhood for all possible values of n\n",
    "kmer_counts = count_kmers_in_neighborhood(Pattern, k, n)\n",
    "\n",
    "# Print the results\n",
    "for d, count in kmer_counts.items():\n",
    "    print(f\"Number of {k}-mers in {d}-neighborhood: {count}\")\n"
   ]
  }
 ],
 "metadata": {
  "language_info": {
   "name": "python"
  }
 },
 "nbformat": 4,
 "nbformat_minor": 2
}
