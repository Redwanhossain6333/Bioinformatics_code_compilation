{
 "cells": [
  {
   "cell_type": "code",
   "execution_count": null,
   "metadata": {},
   "outputs": [],
   "source": [
    "#####Find position where DNaA box can be found in a given sequence\n",
    "\n",
    "def minimum_skew(genome):\n",
    "    skew = [0]\n",
    "    min_skew = float('inf')\n",
    "    min_indices = []\n",
    "\n",
    "    for i in range(len(genome)):\n",
    "        if genome[i] == 'C':\n",
    "            skew.append(skew[-1] - 1)\n",
    "        elif genome[i] == 'G':\n",
    "            skew.append(skew[-1] + 1)\n",
    "        else:\n",
    "            skew.append(skew[-1])\n",
    "\n",
    "        if skew[-1] < min_skew:\n",
    "            min_skew = skew[-1]\n",
    "            min_indices = [i]\n",
    "        elif skew[-1] == min_skew:\n",
    "            min_indices.append(i)\n",
    "\n",
    "    return min_indices\n",
    "\n",
    "# Read the genome data from the file\n",
    "with open(\"F:\\Download Folder\\Salmonella_enterica.txt\", \"r\") as file:\n",
    "    genome_sequence = file.read()\n",
    "\n",
    "# Find the position of the DnaA box\n",
    "min_skew_indices = minimum_skew(genome_sequence)\n",
    "\n",
    "print(\"Position(s) of the DnaA box:\", min_skew_indices)\n"
   ]
  }
 ],
 "metadata": {
  "language_info": {
   "name": "python"
  }
 },
 "nbformat": 4,
 "nbformat_minor": 2
}
