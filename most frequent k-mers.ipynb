{
 "cells": [
  {
   "cell_type": "code",
   "execution_count": 1,
   "metadata": {},
   "outputs": [
    {
     "name": "stdout",
     "output_type": "stream",
     "text": [
      "Most frequent 3-mers:\n",
      "AGG\n"
     ]
    }
   ],
   "source": [
    "from collections import Counter\n",
    "\n",
    "# Read the DNA sequence and k from a text file\n",
    "with open(\"F://Download Folder//asasa.txt\", 'r') as file:\n",
    "    dna_sequence = file.readline().strip()\n",
    "    k = int(file.readline().strip())\n",
    "\n",
    "# Function to find the most frequent k-mers\n",
    "def find_most_frequent_kmers(dna_sequence, k):\n",
    "    kmer_counts = Counter(dna_sequence[i:i + k] for i in range(len(dna_sequence) - k + 1))\n",
    "    max_count = max(kmer_counts.values())\n",
    "    most_frequent_kmers = [kmer for kmer, count in kmer_counts.items() if count == max_count]\n",
    "    return most_frequent_kmers\n",
    "\n",
    "# Find and print the most frequent k-mers\n",
    "most_frequent_kmers = find_most_frequent_kmers(dna_sequence, k)\n",
    "\n",
    "print(f\"Most frequent {k}-mers:\")\n",
    "for kmer in most_frequent_kmers:\n",
    "    print(kmer)\n"
   ]
  }
 ],
 "metadata": {
  "kernelspec": {
   "display_name": "base",
   "language": "python",
   "name": "python3"
  },
  "language_info": {
   "codemirror_mode": {
    "name": "ipython",
    "version": 3
   },
   "file_extension": ".py",
   "mimetype": "text/x-python",
   "name": "python",
   "nbconvert_exporter": "python",
   "pygments_lexer": "ipython3",
   "version": "3.9.13"
  }
 },
 "nbformat": 4,
 "nbformat_minor": 2
}
