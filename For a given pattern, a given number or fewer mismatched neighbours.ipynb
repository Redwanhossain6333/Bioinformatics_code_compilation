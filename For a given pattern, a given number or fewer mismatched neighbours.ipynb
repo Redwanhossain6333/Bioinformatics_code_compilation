{
 "cells": [
  {
   "cell_type": "code",
   "execution_count": null,
   "metadata": {},
   "outputs": [],
   "source": [
    "### For a given pattern, a given number or fewer mismatched neighbours\n",
    "\n",
    "from itertools import product\n",
    "\n",
    "def generate_neighbors_with_max_mismatches(Pattern, d):\n",
    "    max_mismatch_neighbors = set()\n",
    "    \n",
    "    def generate_mismatches(pattern, mismatch_positions):\n",
    "        mismatches = []\n",
    "        for i, nucleotide in enumerate(pattern):\n",
    "            if i in mismatch_positions:\n",
    "                mismatches.append(['A', 'C', 'G', 'T'])\n",
    "            else:\n",
    "                mismatches.append([nucleotide])\n",
    "        return product(*mismatches)\n",
    "    \n",
    "    def get_mismatch_positions(s1, s2):\n",
    "        positions = []\n",
    "        for i in range(len(s1)):\n",
    "            if s1[i] != s2[i]:\n",
    "                positions.append(i)\n",
    "        return positions\n",
    "    \n",
    "    def add_mismatches_with_d_distance(pattern, d, mismatch_positions, result):\n",
    "        if d == 0:\n",
    "            result.add(pattern)\n",
    "            return\n",
    "        \n",
    "        for position in mismatch_positions:\n",
    "            for nucleotide in 'ACGT':\n",
    "                new_pattern = pattern[:position] + nucleotide + pattern[position + 1:]\n",
    "                add_mismatches_with_d_distance(new_pattern, d - 1, mismatch_positions, result)\n",
    "    \n",
    "    for i in range(1, d + 1):\n",
    "        mismatch_positions = [j for j in range(len(Pattern))]\n",
    "        for positions in product(mismatch_positions, repeat=i):\n",
    "            mismatches = generate_mismatches(Pattern, positions)\n",
    "            for mismatch in mismatches:\n",
    "                mismatch_str = ''.join(mismatch)\n",
    "                max_mismatch_neighbors.add(mismatch_str)\n",
    "    \n",
    "    return max_mismatch_neighbors\n",
    "\n",
    "# Example usage:\n",
    "Pattern = \"CATT\"\n",
    "d = 2\n",
    "\n",
    "max_mismatch_neighbors = generate_neighbors_with_max_mismatches(Pattern, d)\n",
    "print(\"Neighbors of\", Pattern, \"with\", d, \"or fewer mismatches:\", max_mismatch_neighbors)\n"
   ]
  }
 ],
 "metadata": {
  "language_info": {
   "name": "python"
  }
 },
 "nbformat": 4,
 "nbformat_minor": 2
}
