{
 "cells": [
  {
   "cell_type": "code",
   "execution_count": null,
   "metadata": {},
   "outputs": [],
   "source": [
    "##### Find all possible neighbours of a given pattern\n",
    "\n",
    "def generate_neighbors(Pattern, d):\n",
    "    if d == 0:\n",
    "        return {Pattern}\n",
    "\n",
    "    if len(Pattern) == 1:\n",
    "        return {'A', 'C', 'G', 'T'}\n",
    "\n",
    "    first_symbol = Pattern[0]\n",
    "    suffix = Pattern[1:]\n",
    "    \n",
    "    neighborhood = set()\n",
    "    suffix_neighbors = generate_neighbors(suffix, d)\n",
    "\n",
    "    for text in suffix_neighbors:\n",
    "        if HammingDistance(suffix, text) < d:\n",
    "            for nucleotide in 'ACGT':\n",
    "                neighborhood.add(nucleotide + text)\n",
    "        else:\n",
    "            neighborhood.add(first_symbol + text)\n",
    "\n",
    "    return neighborhood\n",
    "\n",
    "def HammingDistance(s1, s2):\n",
    "    if len(s1) != len(s2):\n",
    "        raise ValueError(\"Input strings must have equal length\")\n",
    "\n",
    "    distance = 0\n",
    "    for i in range(len(s1)):\n",
    "        if s1[i] != s2[i]:\n",
    "            distance += 1\n",
    "    return distance\n",
    "\n",
    "# Example usage:\n",
    "Pattern = \"CATT\"\n",
    "d = 2\n",
    "\n",
    "neighbors = generate_neighbors(Pattern, d)\n",
    "print(\"Neighbors of\", Pattern, \"with\", d, \"mismatches:\", neighbors)\n"
   ]
  }
 ],
 "metadata": {
  "language_info": {
   "name": "python"
  }
 },
 "nbformat": 4,
 "nbformat_minor": 2
}
