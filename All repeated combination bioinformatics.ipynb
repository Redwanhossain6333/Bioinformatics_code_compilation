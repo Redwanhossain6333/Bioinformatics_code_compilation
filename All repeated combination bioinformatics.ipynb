{
 "cells": [
  {
   "cell_type": "code",
   "execution_count": null,
   "metadata": {},
   "outputs": [],
   "source": [
    "import matplotlib.pyplot as plt\n",
    "# Function to find repeated combinations of a given length in a DNA sequence\n",
    "def find_repeated_combinations(dna_sequence, length):\n",
    "    combinations = {}\n",
    "    for i in range(len(dna_sequence) - length + 1):\n",
    "        subsequence = dna_sequence[i:i + length]\n",
    "        if subsequence in combinations:\n",
    "            combinations[subsequence] += 1\n",
    "        else:\n",
    "            combinations[subsequence] = 1\n",
    "    return combinations\n",
    "\n",
    "# Read the DNA sequence from a text file\n",
    "with open(\"F:\\Download Folder\\genome coursera.txt\", 'r') as file:\n",
    "    dna_sequence = file.read().strip()\n",
    "\n",
    "# Initialize a dictionary to store the frequencies of combinations\n",
    "combinations_freq = {}\n",
    "\n",
    "# Find repeated combinations for lengths 5 to 7\n",
    "for length in range(5, 8):\n",
    "    combinations_freq[length] = find_repeated_combinations(dna_sequence, length)\n",
    "\n",
    "# Print the results\n",
    "for length, freq_dict in combinations_freq.items():\n",
    "    print(f\"Repeated combinations of length {length}:\")\n",
    "    for combination, frequency in freq_dict.items():\n",
    "        print(f\"{combination}: {frequency} times\")\n",
    "    print()\n",
    "\n",
    "\n",
    "# Create bar charts to visualize the results\n",
    "for length, freq_dict in combinations_freq.items():\n",
    "    combinations = list(freq_dict.keys())\n",
    "    frequencies = list(freq_dict.values())\n",
    "\n",
    "    plt.figure(figsize=(8, 6))\n",
    "    plt.bar(combinations, frequencies)\n",
    "    plt.title(f\"Repeated Combinations of Length {length}\")\n",
    "    plt.xlabel(\"Combinations\")\n",
    "    plt.ylabel(\"Frequency\")\n",
    "    plt.xticks(rotation=45)  # Rotate x-axis labels for better readability\n",
    "    plt.tight_layout()\n",
    "\n",
    "    plt.show()"
   ]
  }
 ],
 "metadata": {
  "kernelspec": {
   "display_name": "base",
   "language": "python",
   "name": "python3"
  },
  "language_info": {
   "codemirror_mode": {
    "name": "ipython",
    "version": 3
   },
   "file_extension": ".py",
   "mimetype": "text/x-python",
   "name": "python",
   "nbconvert_exporter": "python",
   "pygments_lexer": "ipython3",
   "version": "3.9.13"
  }
 },
 "nbformat": 4,
 "nbformat_minor": 2
}
